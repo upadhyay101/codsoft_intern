{
 "cells": [
  {
   "cell_type": "code",
   "execution_count": 1,
   "id": "d2eecab5",
   "metadata": {},
   "outputs": [],
   "source": [
    "import pandas as pd\n",
    "import numpy as np\n",
    "from sklearn.model_selection import train_test_split\n",
    "from sklearn.feature_extraction.text import TfidfVectorizer\n",
    "from sklearn.naive_bayes import MultinomialNB\n",
    "from sklearn.metrics import accuracy_score, classification_report\n",
    "from tqdm import tqdm"
   ]
  },
  {
   "cell_type": "code",
   "execution_count": 2,
   "id": "99dfdfa8",
   "metadata": {},
   "outputs": [],
   "source": [
    "data = pd.read_csv('spam.csv', encoding='latin-1')\n",
    "data.drop_duplicates(inplace=True)\n",
    "data['label'] = data['v1'].map({'ham': 'ham', 'spam': 'spam'})\n",
    "X = data['v2']\n",
    "y = data['label']"
   ]
  },
  {
   "cell_type": "code",
   "execution_count": 3,
   "id": "0eca3903",
   "metadata": {},
   "outputs": [],
   "source": [
    "X_train, X_test, y_train, y_test = train_test_split(X, y, test_size=0.2, random_state=42)\n",
    "tfidf_vectorizer = TfidfVectorizer()\n",
    "X_train_tfidf = tfidf_vectorizer.fit_transform(X_train)"
   ]
  },
  {
   "cell_type": "code",
   "execution_count": 4,
   "id": "e375d53d",
   "metadata": {},
   "outputs": [
    {
     "name": "stdout",
     "output_type": "stream",
     "text": [
      "['ham' 'ham' 'ham' ... 'spam' 'ham' 'ham']\n"
     ]
    }
   ],
   "source": [
    "classifier = MultinomialNB()\n",
    "classifier.fit(X_train_tfidf, y_train)\n",
    "X_test_tfidf = tfidf_vectorizer.transform(X_test)\n",
    "y_pred = classifier.predict(X_test_tfidf)\n",
    "print(y_pred)"
   ]
  },
  {
   "cell_type": "code",
   "execution_count": 5,
   "id": "d460c102",
   "metadata": {},
   "outputs": [
    {
     "name": "stderr",
     "output_type": "stream",
     "text": [
      "Progress: 100%: 100%|██████████| 100/100 [00:00<00:00, 15924.91it/s]"
     ]
    }
   ],
   "source": [
    "accuracy = accuracy_score(y_test, y_pred)\n",
    "report = classification_report(y_test, y_pred, target_names=['Legitimate SMS', 'Spam SMS'])\n",
    "progress_bar = tqdm(total=100, position=0, leave=True)\n",
    "for i in range(10, 101, 10):\n",
    "    progress_bar.update(10)\n",
    "    progress_bar.set_description(f'Progress: {i}%')"
   ]
  },
  {
   "cell_type": "code",
   "execution_count": 6,
   "id": "3983ddea",
   "metadata": {},
   "outputs": [
    {
     "name": "stderr",
     "output_type": "stream",
     "text": [
      "Progress: 100%: 100%|██████████| 100/100 [00:10<00:00,  9.38it/s]   \n"
     ]
    }
   ],
   "source": [
    "progress_bar.close()"
   ]
  },
  {
   "cell_type": "code",
   "execution_count": 7,
   "id": "fd7f28f8",
   "metadata": {},
   "outputs": [
    {
     "name": "stdout",
     "output_type": "stream",
     "text": [
      "Accuracy: 0.96\n",
      "Classification Report:\n",
      "                precision    recall  f1-score   support\n",
      "\n",
      "Legitimate SMS       0.95      1.00      0.97       889\n",
      "      Spam SMS       1.00      0.68      0.81       145\n",
      "\n",
      "      accuracy                           0.96      1034\n",
      "     macro avg       0.98      0.84      0.89      1034\n",
      "  weighted avg       0.96      0.96      0.95      1034\n",
      "\n"
     ]
    }
   ],
   "source": [
    "print(f'Accuracy: {accuracy:.2f}')\n",
    "print('Classification Report:')\n",
    "print(report)"
   ]
  },
  {
   "cell_type": "code",
   "execution_count": null,
   "id": "ba01599e",
   "metadata": {},
   "outputs": [],
   "source": []
  }
 ],
 "metadata": {
  "kernelspec": {
   "display_name": "Python 3 (ipykernel)",
   "language": "python",
   "name": "python3"
  },
  "language_info": {
   "codemirror_mode": {
    "name": "ipython",
    "version": 3
   },
   "file_extension": ".py",
   "mimetype": "text/x-python",
   "name": "python",
   "nbconvert_exporter": "python",
   "pygments_lexer": "ipython3",
   "version": "3.11.5"
  }
 },
 "nbformat": 4,
 "nbformat_minor": 5
}
